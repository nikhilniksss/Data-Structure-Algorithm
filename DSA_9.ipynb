{
 "cells": [
  {
   "cell_type": "markdown",
   "id": "d58c376e-02dc-4fe8-88ee-145bacd565fc",
   "metadata": {},
   "source": [
    "## Recursion"
   ]
  },
  {
   "cell_type": "markdown",
   "id": "44cb0aec-d066-4c65-ad3c-86dc83168686",
   "metadata": {},
   "source": [
    "Infinite Recursion problem"
   ]
  },
  {
   "cell_type": "code",
   "execution_count": 2,
   "id": "144798a3-1d45-43f6-952a-90daf6f73e0f",
   "metadata": {},
   "outputs": [],
   "source": [
    "# problem with this recursion function that it will go into infinite loop\n",
    "\n",
    "def countdown(i):\n",
    "    print(i)\n",
    "    countdown(i-1)"
   ]
  },
  {
   "cell_type": "code",
   "execution_count": 5,
   "id": "f3717fed-bb7a-44c3-8298-cc3d9899622f",
   "metadata": {},
   "outputs": [],
   "source": [
    "# to handle we'll use base case and recursive case\n",
    "\n",
    "def countdown(i):\n",
    "    print(i)\n",
    "    if i <= 0:          #------ base case\n",
    "        return\n",
    "    else:\n",
    "        countdown(i-1) #------ recursiove case"
   ]
  },
  {
   "cell_type": "code",
   "execution_count": 6,
   "id": "2a6b6770-ca3a-4f09-97dd-0f87c51412e9",
   "metadata": {},
   "outputs": [
    {
     "name": "stdout",
     "output_type": "stream",
     "text": [
      "5\n",
      "4\n",
      "3\n",
      "2\n",
      "1\n",
      "0\n"
     ]
    }
   ],
   "source": [
    "countdown(5)"
   ]
  },
  {
   "cell_type": "markdown",
   "id": "4a0c757b-d238-4b7e-bf07-25a2f0aad0dd",
   "metadata": {},
   "source": [
    "### Call Stack"
   ]
  },
  {
   "cell_type": "code",
   "execution_count": 18,
   "id": "a91ab66d-08fa-46e4-81e3-cd5cc086fefd",
   "metadata": {},
   "outputs": [],
   "source": [
    "def greet(name):\n",
    "    print(\"Hello\" + name)\n",
    "    greet2(name)\n",
    "    print(\"Get ready to say good bye....\")\n",
    "    bye()\n",
    "    \n",
    "def greet2(name):\n",
    "    print(\"Hello\" + \" \" +name +\" \"+ \"how are you doing..\")\n",
    "    \n",
    "def bye():\n",
    "    print(\"byee byee\")"
   ]
  },
  {
   "cell_type": "code",
   "execution_count": 19,
   "id": "fa1d8d15-15e2-4162-aa27-8dbc270988a3",
   "metadata": {},
   "outputs": [
    {
     "name": "stdout",
     "output_type": "stream",
     "text": [
      "HelloNick\n",
      "Hello Nick how are you doing..\n",
      "Get ready to say good bye....\n",
      "byee byee\n"
     ]
    }
   ],
   "source": [
    "greet(\"Nick\")"
   ]
  },
  {
   "cell_type": "markdown",
   "id": "aa2249ce-31fb-448d-a002-f1f9a84cb294",
   "metadata": {},
   "source": [
    "## Call stack with recursion"
   ]
  },
  {
   "cell_type": "code",
   "execution_count": 22,
   "id": "4552b815-f3a0-4154-9662-20e4beb13973",
   "metadata": {},
   "outputs": [],
   "source": [
    "def fact(x):\n",
    "    if x == 1:\n",
    "        return 1\n",
    "    else:\n",
    "        return x * fact(x-1)"
   ]
  },
  {
   "cell_type": "code",
   "execution_count": 23,
   "id": "710e284e-5537-45ee-b40e-7f14bfb98044",
   "metadata": {},
   "outputs": [
    {
     "data": {
      "text/plain": [
       "120"
      ]
     },
     "execution_count": 23,
     "metadata": {},
     "output_type": "execute_result"
    }
   ],
   "source": [
    "fact(5)"
   ]
  },
  {
   "cell_type": "code",
   "execution_count": null,
   "id": "8059d97f-4650-4c59-94d6-fb3d87bc35fe",
   "metadata": {},
   "outputs": [],
   "source": []
  }
 ],
 "metadata": {
  "kernelspec": {
   "display_name": "Python 3 (ipykernel)",
   "language": "python",
   "name": "python3"
  },
  "language_info": {
   "codemirror_mode": {
    "name": "ipython",
    "version": 3
   },
   "file_extension": ".py",
   "mimetype": "text/x-python",
   "name": "python",
   "nbconvert_exporter": "python",
   "pygments_lexer": "ipython3",
   "version": "3.8.13"
  }
 },
 "nbformat": 4,
 "nbformat_minor": 5
}
