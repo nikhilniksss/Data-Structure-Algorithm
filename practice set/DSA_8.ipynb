{
 "cells": [
  {
   "cell_type": "markdown",
   "id": "b9556a5e-f025-43c2-8282-b235ce60a492",
   "metadata": {},
   "source": [
    "## Selection Sort"
   ]
  },
  {
   "cell_type": "code",
   "execution_count": 18,
   "id": "1c6cb10f-1e9b-4e0e-9575-4a82fee0de5d",
   "metadata": {},
   "outputs": [],
   "source": [
    "# function to find the smallest from the array\n",
    "\n",
    "def findsmallest(arr):\n",
    "    smallest = arr[0]\n",
    "    smallest_index = 0\n",
    "    \n",
    "    for i in range(1,len(arr)):\n",
    "        if arr[i] < smallest:\n",
    "            smallest = arr[i]\n",
    "            smallest_index = i\n",
    "    return smallest_index \n",
    "\n",
    "# function to sort the arr from lowest to highest\n",
    "\n",
    "def selection_sort(arr):\n",
    "    newArr = []\n",
    "    \n",
    "    for i in range(len(arr)):\n",
    "        smallest = findsmallest(arr)\n",
    "        newArr.append(arr.pop(smallest))\n",
    "    return newArr"
   ]
  },
  {
   "cell_type": "code",
   "execution_count": 19,
   "id": "fe5d0641-05e0-4919-b32b-ea37c337a34a",
   "metadata": {},
   "outputs": [
    {
     "name": "stdout",
     "output_type": "stream",
     "text": [
      "<<----------- Selection sort output ---------->>\n"
     ]
    },
    {
     "data": {
      "text/plain": [
       "[2, 3, 5, 6, 10]"
      ]
     },
     "execution_count": 19,
     "metadata": {},
     "output_type": "execute_result"
    }
   ],
   "source": [
    "print(\"<<----------- Selection sort output ---------->>\")\n",
    "\n",
    "arr = [5,3,6,2,10]\n",
    "\n",
    "selection_sort(arr)"
   ]
  },
  {
   "cell_type": "code",
   "execution_count": null,
   "id": "572a27f2-1c94-4d1d-a7b3-36a698eddd76",
   "metadata": {},
   "outputs": [],
   "source": []
  }
 ],
 "metadata": {
  "kernelspec": {
   "display_name": "Python 3 (ipykernel)",
   "language": "python",
   "name": "python3"
  },
  "language_info": {
   "codemirror_mode": {
    "name": "ipython",
    "version": 3
   },
   "file_extension": ".py",
   "mimetype": "text/x-python",
   "name": "python",
   "nbconvert_exporter": "python",
   "pygments_lexer": "ipython3",
   "version": "3.8.13"
  }
 },
 "nbformat": 4,
 "nbformat_minor": 5
}
