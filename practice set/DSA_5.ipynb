{
 "cells": [
  {
   "cell_type": "markdown",
   "id": "fabeabb7-ddef-4120-9a68-5db0e9bb5cc8",
   "metadata": {},
   "source": [
    "**Problem** - Linear Serarch"
   ]
  },
  {
   "cell_type": "code",
   "execution_count": 16,
   "id": "d1def064-5c7a-46fa-8434-2edc2ad3cbd2",
   "metadata": {},
   "outputs": [],
   "source": [
    "# Time complexity = O(n)\n",
    "# space complexity = O(1)\n",
    "\n",
    "def linear_search(arr,x):\n",
    "    \n",
    "    for i in range(len(arr)):\n",
    "        if arr[i] == x:\n",
    "            return i\n",
    "        \n",
    "    return -1"
   ]
  },
  {
   "cell_type": "code",
   "execution_count": 17,
   "id": "0c6b6220-32d1-49a8-8b65-28b9f54c732d",
   "metadata": {},
   "outputs": [
    {
     "name": "stdout",
     "output_type": "stream",
     "text": [
      "searching element is at index 4\n"
     ]
    }
   ],
   "source": [
    "arr = [10,12,14,45,11,99,100,20]\n",
    "x = 11\n",
    "\n",
    "result = linear_search(arr,x)\n",
    "print(f'searching element is at index {result}')"
   ]
  },
  {
   "cell_type": "code",
   "execution_count": 18,
   "id": "7272c04e-02ba-445b-b617-bb4e6bb87f19",
   "metadata": {},
   "outputs": [
    {
     "name": "stdout",
     "output_type": "stream",
     "text": [
      "searching element is at index -1\n"
     ]
    }
   ],
   "source": [
    "arr = [10,12,14,45,11,99,100,20]\n",
    "x = 200\n",
    "\n",
    "result = linear_search(arr,x)\n",
    "print(f'searching element is at index {result}')"
   ]
  },
  {
   "cell_type": "code",
   "execution_count": null,
   "id": "283c816f-3087-4409-bec3-5a51ec6b3102",
   "metadata": {},
   "outputs": [],
   "source": []
  }
 ],
 "metadata": {
  "kernelspec": {
   "display_name": "Python 3 (ipykernel)",
   "language": "python",
   "name": "python3"
  },
  "language_info": {
   "codemirror_mode": {
    "name": "ipython",
    "version": 3
   },
   "file_extension": ".py",
   "mimetype": "text/x-python",
   "name": "python",
   "nbconvert_exporter": "python",
   "pygments_lexer": "ipython3",
   "version": "3.8.13"
  }
 },
 "nbformat": 4,
 "nbformat_minor": 5
}
