{
 "cells": [
  {
   "cell_type": "markdown",
   "id": "7e4216f0-9678-4579-ba5c-38c24aa7d098",
   "metadata": {},
   "source": [
    "#### ARRAY"
   ]
  },
  {
   "cell_type": "markdown",
   "id": "460882ee-c430-472d-9a87-7ce0b084b745",
   "metadata": {},
   "source": [
    "Given an integer array, output all the unique pairs that sum up to a specific k\n",
    "\n",
    "so the input is :\n",
    "\n",
    "pair_sum([1,3,2,2],4)\n",
    "\n",
    "output would be\n",
    "\n",
    "(1,3)\n",
    "(2,2)"
   ]
  },
  {
   "cell_type": "code",
   "execution_count": 40,
   "id": "3370922a-831b-4bcf-9f73-123540c93e6a",
   "metadata": {},
   "outputs": [],
   "source": [
    "def pair_sum(a,b):\n",
    "    \n",
    "    pair1 = []\n",
    "    pair2 = []\n",
    "    \n",
    "    for i in range(0,len(a)):\n",
    "        if a[i] + a[i] == b:\n",
    "            pair1.append(a[i])\n",
    "        else:\n",
    "            pair2.append(a[i])\n",
    "            \n",
    "pair1 = tuple(pair1)\n",
    "pair2 = tuple(pair2)"
   ]
  },
  {
   "cell_type": "code",
   "execution_count": 41,
   "id": "cf08cf57-f729-443c-b675-44e31c5100c9",
   "metadata": {},
   "outputs": [
    {
     "name": "stdout",
     "output_type": "stream",
     "text": [
      "(2, 2)\n",
      "(1, 3)\n"
     ]
    }
   ],
   "source": [
    "a = [1,4,2,3]\n",
    "b = 5\n",
    "\n",
    "print(pair1)\n",
    "print(pair2)"
   ]
  },
  {
   "cell_type": "code",
   "execution_count": 47,
   "id": "5a107bc4-3db1-4cfe-9ef2-1da06928f59b",
   "metadata": {},
   "outputs": [],
   "source": [
    "a = [1,4,2,3]\n",
    "b = 5\n",
    "\n",
    "pair1 = []\n",
    "pair2 = []\n",
    "    \n",
    "for i in range(0,len(a)):\n",
    "    if a[i] + a[i] == b:\n",
    "        pair1.append(a[i])\n",
    "    else:\n",
    "        pair2.append(a[i])\n",
    "            \n",
    "pair1 = tuple(pair1)\n",
    "pair2 = tuple(pair2)"
   ]
  },
  {
   "cell_type": "code",
   "execution_count": 48,
   "id": "be7facd5-b400-44e0-8c37-7b1071ef855e",
   "metadata": {},
   "outputs": [
    {
     "name": "stdout",
     "output_type": "stream",
     "text": [
      "()\n",
      "(1, 4, 2, 3)\n"
     ]
    }
   ],
   "source": [
    "print(pair1)\n",
    "print(pair2)\n"
   ]
  },
  {
   "cell_type": "code",
   "execution_count": 20,
   "id": "d2ab2bf4-160d-434e-9541-2113cb9a0904",
   "metadata": {},
   "outputs": [
    {
     "data": {
      "text/plain": [
       "(1, 3)"
      ]
     },
     "execution_count": 20,
     "metadata": {},
     "output_type": "execute_result"
    }
   ],
   "source": [
    "pair2"
   ]
  },
  {
   "cell_type": "code",
   "execution_count": 74,
   "id": "b1417ddd-7d0f-41ff-bc04-0d361072bcbb",
   "metadata": {},
   "outputs": [],
   "source": [
    "# Final Code\n",
    "\n",
    "def pair_sum(arr,k):\n",
    "    \n",
    "    if len(arr) < 2:\n",
    "        return\n",
    "    \n",
    "    #sets for tracking\n",
    "    \n",
    "    seen = set()\n",
    "    output = set()\n",
    "    \n",
    "    \n",
    "    for num in arr:\n",
    "        \n",
    "        target = k - num\n",
    "        \n",
    "        if target not in seen:\n",
    "            seen.add(num)\n",
    "        else:\n",
    "            output.add((min(num,target),max(num,target)))\n",
    "        \n",
    "    print('\\n'.join(map(str,list(output))))"
   ]
  },
  {
   "cell_type": "code",
   "execution_count": 75,
   "id": "6c70b145-a9a1-4d30-8179-6334877f9a84",
   "metadata": {},
   "outputs": [
    {
     "name": "stdout",
     "output_type": "stream",
     "text": [
      "(1, 7)\n",
      "(2, 6)\n"
     ]
    }
   ],
   "source": [
    "arr = [1,7,2,6]\n",
    "k = 8\n",
    "\n",
    "pair_sum(arr,k)"
   ]
  },
  {
   "cell_type": "markdown",
   "id": "4577c0c5-2d6f-4673-af6c-5b75f27b4fdf",
   "metadata": {},
   "source": [
    "Find the missing number from array"
   ]
  },
  {
   "cell_type": "code",
   "execution_count": 31,
   "id": "d9bcb09f-37ef-4985-9c56-edadb3ea7fd5",
   "metadata": {},
   "outputs": [],
   "source": [
    "def finder(arr1,arr2):\n",
    "    \n",
    "    arr1.sort()\n",
    "    arr2.sort()\n",
    "    \n",
    "    for num1,num2 in zip(arr1,arr2):\n",
    "        if num1 != num2:\n",
    "            return num1\n",
    "        \n",
    "    return arr1[-1]"
   ]
  },
  {
   "cell_type": "code",
   "execution_count": 32,
   "id": "40f09660-6f64-4d26-9114-b01bd4db33b0",
   "metadata": {},
   "outputs": [
    {
     "data": {
      "text/plain": [
       "5"
      ]
     },
     "execution_count": 32,
     "metadata": {},
     "output_type": "execute_result"
    }
   ],
   "source": [
    "finder([1,2,3,4,5,6,7],[3,7,2,1,4,6])"
   ]
  },
  {
   "cell_type": "code",
   "execution_count": 35,
   "id": "f1729284-7d7e-4ab9-a0cd-6fc38a2ca1f8",
   "metadata": {},
   "outputs": [],
   "source": [
    "import collections\n",
    "\n",
    "def finder2(arr1,arr2):\n",
    "    \n",
    "    d = collections.defaultdict(int)\n",
    "    \n",
    "    for num in arr2:\n",
    "        d[num] += 1\n",
    "        \n",
    "    for num in arr1:\n",
    "        if d[num] == 0:\n",
    "            return num\n",
    "        else:\n",
    "            d[num] -= 1"
   ]
  },
  {
   "cell_type": "code",
   "execution_count": 36,
   "id": "80f1a0fc-8a92-4f81-b655-2ad3a68ecc37",
   "metadata": {},
   "outputs": [
    {
     "data": {
      "text/plain": [
       "5"
      ]
     },
     "execution_count": 36,
     "metadata": {},
     "output_type": "execute_result"
    }
   ],
   "source": [
    "finder2([1,2,3,4,5,6,7],[3,7,2,1,4,6])"
   ]
  },
  {
   "cell_type": "code",
   "execution_count": 54,
   "id": "30cd7e43-4150-4810-80df-a5c4ede2f353",
   "metadata": {},
   "outputs": [],
   "source": [
    "def finder3(arr1,arr2):\n",
    "    \n",
    "    result = 0\n",
    "    \n",
    "    for num in arr1+arr2:\n",
    "        \n",
    "        result ^= num\n",
    "        \n",
    "    return result"
   ]
  },
  {
   "cell_type": "code",
   "execution_count": 55,
   "id": "3d328904-c25e-42ed-91a2-14590b965b57",
   "metadata": {},
   "outputs": [
    {
     "data": {
      "text/plain": [
       "5"
      ]
     },
     "execution_count": 55,
     "metadata": {},
     "output_type": "execute_result"
    }
   ],
   "source": [
    "finder3([1,2,3,4,5,6,7],[3,7,2,1,4,6])"
   ]
  },
  {
   "cell_type": "code",
   "execution_count": null,
   "id": "7d696d66-0f25-4fdf-a181-4171ff7129e2",
   "metadata": {},
   "outputs": [],
   "source": []
  }
 ],
 "metadata": {
  "kernelspec": {
   "display_name": "Python 3 (ipykernel)",
   "language": "python",
   "name": "python3"
  },
  "language_info": {
   "codemirror_mode": {
    "name": "ipython",
    "version": 3
   },
   "file_extension": ".py",
   "mimetype": "text/x-python",
   "name": "python",
   "nbconvert_exporter": "python",
   "pygments_lexer": "ipython3",
   "version": "3.8.13"
  }
 },
 "nbformat": 4,
 "nbformat_minor": 5
}
