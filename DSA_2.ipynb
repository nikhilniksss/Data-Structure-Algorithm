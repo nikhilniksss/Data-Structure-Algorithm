{
 "cells": [
  {
   "cell_type": "markdown",
   "id": "c9d712e2-b001-4196-a2b4-6b7c5208820b",
   "metadata": {},
   "source": [
    "### Comparision of different list methods in python based on big-O"
   ]
  },
  {
   "cell_type": "code",
   "execution_count": 5,
   "id": "c3345ac2-8a44-4b0a-8a00-bf20679a9bf2",
   "metadata": {},
   "outputs": [],
   "source": [
    "def method_1():\n",
    "    lst = []\n",
    "    \n",
    "    for i in range(10000):\n",
    "        lst = lst + [i]\n",
    "        \n",
    "\n",
    "def method_2():\n",
    "    lst = []\n",
    "    \n",
    "    for i in range(10000):\n",
    "        lst.append(i)\n",
    "        \n",
    "        \n",
    "def method_3():\n",
    "    lst = [i for i in range(10000)]\n",
    "    \n",
    "\n",
    "def method_4():\n",
    "    lst = range(10000)"
   ]
  },
  {
   "cell_type": "code",
   "execution_count": 6,
   "id": "5b2cd90a-caac-43c2-a2dc-d3c98ab35383",
   "metadata": {},
   "outputs": [
    {
     "name": "stdout",
     "output_type": "stream",
     "text": [
      "191 ms ± 10.7 ms per loop (mean ± std. dev. of 7 runs, 10 loops each)\n",
      "857 µs ± 18.1 µs per loop (mean ± std. dev. of 7 runs, 1,000 loops each)\n",
      "441 µs ± 1.47 µs per loop (mean ± std. dev. of 7 runs, 1,000 loops each)\n",
      "338 ns ± 1.89 ns per loop (mean ± std. dev. of 7 runs, 1,000,000 loops each)\n"
     ]
    }
   ],
   "source": [
    "%timeit method_1()\n",
    "%timeit method_2()\n",
    "%timeit method_3()\n",
    "%timeit method_4()"
   ]
  },
  {
   "cell_type": "markdown",
   "id": "f18955e1-0d57-4b16-9436-32aa77196ad9",
   "metadata": {},
   "source": [
    "#### Dynamic Array"
   ]
  },
  {
   "cell_type": "code",
   "execution_count": 2,
   "id": "ae69c530-6d36-4df4-bf49-7513c3c0215e",
   "metadata": {},
   "outputs": [
    {
     "name": "stdout",
     "output_type": "stream",
     "text": [
      "Length:  0;size in bytes:  56\n",
      "Length:  1;size in bytes:  88\n",
      "Length:  2;size in bytes:  88\n",
      "Length:  3;size in bytes:  88\n",
      "Length:  4;size in bytes:  88\n",
      "Length:  5;size in bytes: 120\n",
      "Length:  6;size in bytes: 120\n",
      "Length:  7;size in bytes: 120\n",
      "Length:  8;size in bytes: 120\n",
      "Length:  9;size in bytes: 184\n",
      "Length: 10;size in bytes: 184\n",
      "Length: 11;size in bytes: 184\n",
      "Length: 12;size in bytes: 184\n",
      "Length: 13;size in bytes: 184\n",
      "Length: 14;size in bytes: 184\n",
      "Length: 15;size in bytes: 184\n",
      "Length: 16;size in bytes: 184\n",
      "Length: 17;size in bytes: 256\n",
      "Length: 18;size in bytes: 256\n",
      "Length: 19;size in bytes: 256\n"
     ]
    }
   ],
   "source": [
    "import sys\n",
    "\n",
    "n = 20\n",
    "\n",
    "data = []\n",
    "\n",
    "for i in range(n):\n",
    "    \n",
    "    a = len(data)\n",
    "    \n",
    "    b = sys.getsizeof(data)\n",
    "    \n",
    "    print(\"Length:{0:3d};size in bytes:{1:4d}\".format(a,b))\n",
    "    \n",
    "    data.append(n)"
   ]
  },
  {
   "cell_type": "code",
   "execution_count": 1,
   "id": "d44a0467-41b0-4bd0-94a9-b54552500513",
   "metadata": {},
   "outputs": [],
   "source": [
    "class M(object):\n",
    "    \n",
    "    def public(self):\n",
    "        print(\"Use tab to see me!!!\")\n",
    "        \n",
    "    def _private(self):\n",
    "        print(\"You won't be able to see me!!!\")"
   ]
  },
  {
   "cell_type": "code",
   "execution_count": 2,
   "id": "1541868f-7a30-40ef-80f1-0451c4c5b6b4",
   "metadata": {},
   "outputs": [
    {
     "name": "stdout",
     "output_type": "stream",
     "text": [
      "Use tab to see me!!!\n"
     ]
    }
   ],
   "source": [
    "m = M()\n",
    "m.public()"
   ]
  },
  {
   "cell_type": "code",
   "execution_count": 3,
   "id": "6288ae49-f5f8-4f0d-bb2d-0cc653c3902d",
   "metadata": {},
   "outputs": [
    {
     "name": "stdout",
     "output_type": "stream",
     "text": [
      "You won't be able to see me!!!\n"
     ]
    }
   ],
   "source": [
    "m._private()"
   ]
  },
  {
   "cell_type": "code",
   "execution_count": 5,
   "id": "1d5afe2c-1334-4176-bed3-ba29bbae0a66",
   "metadata": {},
   "outputs": [],
   "source": [
    "import ctypes\n",
    "\n",
    "class DynamicArray(object):\n",
    "    \n",
    "    def __init__(self):\n",
    "        self.n = 0\n",
    "        self.capacity = 1\n",
    "        self.A = self.make_array(self.capacity)\n",
    "        \n",
    "        \n",
    "    def __len__(self):\n",
    "        return self.n\n",
    "    \n",
    "    \n",
    "    def __getitem__(self,k):\n",
    "        if not 0 <= k < self.n:\n",
    "            return IndexError(\"Index out of Bounds\")\n",
    "        return self.A[k]\n",
    "    \n",
    "    def append(self,element):\n",
    "        if self.n == self.capacity:\n",
    "            self._resize(2*self.capacity)\n",
    "            \n",
    "        self.A[self.n] = element\n",
    "        self.n += 1\n",
    "        \n",
    "        \n",
    "    def _resize(self,newcap):\n",
    "        B = self.make_array(newcap)\n",
    "        \n",
    "        for k in range(self.n):\n",
    "            B[k] = self.A[k]\n",
    "            \n",
    "        self.A = B\n",
    "        self.capacity = newcap\n",
    "        \n",
    "        \n",
    "    def make_array(self,newcap):\n",
    "        return (newcap*ctypes.py_object)()\n",
    "        "
   ]
  },
  {
   "cell_type": "code",
   "execution_count": 6,
   "id": "4cc030a2-e1a6-4ecc-b4df-9b7cf9331d06",
   "metadata": {},
   "outputs": [],
   "source": [
    "arr = DynamicArray()"
   ]
  },
  {
   "cell_type": "code",
   "execution_count": 7,
   "id": "3126874d-9876-405d-ad0c-5553758c246a",
   "metadata": {},
   "outputs": [],
   "source": [
    "arr.append(1)"
   ]
  },
  {
   "cell_type": "code",
   "execution_count": 8,
   "id": "1cb3a8a8-32e0-4dcd-9427-e2f4390bb682",
   "metadata": {},
   "outputs": [
    {
     "data": {
      "text/plain": [
       "1"
      ]
     },
     "execution_count": 8,
     "metadata": {},
     "output_type": "execute_result"
    }
   ],
   "source": [
    "len(arr)"
   ]
  },
  {
   "cell_type": "code",
   "execution_count": 9,
   "id": "fce1740b-cb3b-4162-ab91-281f2832f333",
   "metadata": {},
   "outputs": [],
   "source": [
    "arr.append(2)"
   ]
  },
  {
   "cell_type": "code",
   "execution_count": 10,
   "id": "21d38f53-4abd-4727-bcf0-8bd85b7e8361",
   "metadata": {},
   "outputs": [
    {
     "data": {
      "text/plain": [
       "2"
      ]
     },
     "execution_count": 10,
     "metadata": {},
     "output_type": "execute_result"
    }
   ],
   "source": [
    "len(arr)"
   ]
  },
  {
   "cell_type": "code",
   "execution_count": 12,
   "id": "f5b6c180-8d03-4ca0-b466-253694e2eb2d",
   "metadata": {},
   "outputs": [
    {
     "name": "stdout",
     "output_type": "stream",
     "text": [
      "1\n",
      "2\n"
     ]
    }
   ],
   "source": [
    "print(arr[0])\n",
    "print(arr[1])"
   ]
  },
  {
   "cell_type": "code",
   "execution_count": null,
   "id": "9c4fb1bd-27e8-4557-a0db-29c86aaa2ded",
   "metadata": {},
   "outputs": [],
   "source": []
  }
 ],
 "metadata": {
  "kernelspec": {
   "display_name": "Python 3 (ipykernel)",
   "language": "python",
   "name": "python3"
  },
  "language_info": {
   "codemirror_mode": {
    "name": "ipython",
    "version": 3
   },
   "file_extension": ".py",
   "mimetype": "text/x-python",
   "name": "python",
   "nbconvert_exporter": "python",
   "pygments_lexer": "ipython3",
   "version": "3.8.13"
  }
 },
 "nbformat": 4,
 "nbformat_minor": 5
}
