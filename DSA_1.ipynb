{
 "cells": [
  {
   "cell_type": "markdown",
   "id": "2331c2ba-7e95-4896-9fc9-81c1a3ae9dc3",
   "metadata": {
    "tags": []
   },
   "source": [
    "### TIME COMPLEXITY"
   ]
  },
  {
   "cell_type": "code",
   "execution_count": 15,
   "id": "5dc41288-9560-4f85-90a5-6a14a22f713b",
   "metadata": {},
   "outputs": [],
   "source": [
    "# Sum of n numbers - way 1\n",
    "\n",
    "def sum1(n):\n",
    "    final_sum = 0\n",
    "    \n",
    "    for x in range(n+1):\n",
    "        final_sum += x\n",
    "    return final_sum"
   ]
  },
  {
   "cell_type": "code",
   "execution_count": 16,
   "id": "f099ccf6-03a2-47c6-865c-91229b81321b",
   "metadata": {},
   "outputs": [
    {
     "data": {
      "text/plain": [
       "55"
      ]
     },
     "execution_count": 16,
     "metadata": {},
     "output_type": "execute_result"
    }
   ],
   "source": [
    "sum1(10)"
   ]
  },
  {
   "cell_type": "code",
   "execution_count": 17,
   "id": "b60eafa5-8277-4819-9d1e-59c3bfb73e63",
   "metadata": {},
   "outputs": [],
   "source": [
    "# sum of n numbers way 2\n",
    "\n",
    "def sum2(n):\n",
    "    return n*(n+1)/2"
   ]
  },
  {
   "cell_type": "code",
   "execution_count": 18,
   "id": "03664d3d-c260-4643-a197-6bef8ebceb64",
   "metadata": {},
   "outputs": [
    {
     "data": {
      "text/plain": [
       "55.0"
      ]
     },
     "execution_count": 18,
     "metadata": {},
     "output_type": "execute_result"
    }
   ],
   "source": [
    "sum2(10)"
   ]
  },
  {
   "cell_type": "code",
   "execution_count": 19,
   "id": "bdd1696f-c044-4a59-97a7-4d9fbd7bb237",
   "metadata": {},
   "outputs": [
    {
     "name": "stdout",
     "output_type": "stream",
     "text": [
      "5.78 µs ± 324 ns per loop (mean ± std. dev. of 7 runs, 100,000 loops each)\n"
     ]
    }
   ],
   "source": [
    "# compare both the algorithms based on time taken and sapace taken\n",
    "\n",
    "%timeit sum1(100)"
   ]
  },
  {
   "cell_type": "code",
   "execution_count": 20,
   "id": "84780795-29ce-4df6-91cb-10c6f89f3ce3",
   "metadata": {},
   "outputs": [
    {
     "name": "stdout",
     "output_type": "stream",
     "text": [
      "391 ns ± 139 ns per loop (mean ± std. dev. of 7 runs, 10,000,000 loops each)\n"
     ]
    }
   ],
   "source": [
    "# compare both the algorithms based on time taken and sapace taken\n",
    "\n",
    "%timeit sum2(100)"
   ]
  },
  {
   "cell_type": "markdown",
   "id": "b16a6d22-8fe3-447e-9536-a99fc2969f4e",
   "metadata": {},
   "source": [
    "### Big-O Notation"
   ]
  },
  {
   "cell_type": "markdown",
   "id": "1e157e82-8080-4763-85d8-93d72bbaafbf",
   "metadata": {},
   "source": [
    "##### O(1) Notation - Constant"
   ]
  },
  {
   "cell_type": "code",
   "execution_count": 21,
   "id": "1628a60f-6994-4aba-866c-e820ac0b1c50",
   "metadata": {},
   "outputs": [
    {
     "name": "stdout",
     "output_type": "stream",
     "text": [
      "1\n"
     ]
    }
   ],
   "source": [
    "def fun_constant(values):\n",
    "    print(values[0])\n",
    "    \n",
    "lst = [1,2,3,4,5]\n",
    "fun_constant(lst)"
   ]
  },
  {
   "cell_type": "markdown",
   "id": "248de54d-f4f8-4b92-9948-fb8808316fd0",
   "metadata": {},
   "source": [
    "##### O(n) - Linear"
   ]
  },
  {
   "cell_type": "code",
   "execution_count": 22,
   "id": "2ab1f20f-0792-48cc-9234-bbdf59c7c2c2",
   "metadata": {},
   "outputs": [
    {
     "name": "stdout",
     "output_type": "stream",
     "text": [
      "1\n",
      "2\n",
      "3\n",
      "4\n",
      "5\n",
      "6\n"
     ]
    }
   ],
   "source": [
    "def func_linear(values):\n",
    "    \n",
    "    for value in values:\n",
    "        print(value)\n",
    "        \n",
    "lst = [1,2,3,4,5,6]\n",
    "func_linear(lst)"
   ]
  },
  {
   "cell_type": "markdown",
   "id": "2c19548d-a22e-4347-b132-64e9369caf13",
   "metadata": {},
   "source": [
    "##### O(n^2) - Quadratic"
   ]
  },
  {
   "cell_type": "code",
   "execution_count": 23,
   "id": "be3e7c35-f39d-4e07-94db-aa81aa2c5302",
   "metadata": {},
   "outputs": [
    {
     "name": "stdout",
     "output_type": "stream",
     "text": [
      "1 1\n",
      "1 2\n",
      "1 3\n",
      "2 1\n",
      "2 2\n",
      "2 3\n",
      "3 1\n",
      "3 2\n",
      "3 3\n"
     ]
    }
   ],
   "source": [
    "def func_quad(values):\n",
    "    \n",
    "    for val1 in values:\n",
    "        for val2 in values:\n",
    "            print(val1,val2)\n",
    "            \n",
    "lst = [1,2,3]\n",
    "func_quad(lst)"
   ]
  },
  {
   "cell_type": "code",
   "execution_count": 24,
   "id": "a96387ee-4a8b-4cea-a913-0149c53e64c2",
   "metadata": {},
   "outputs": [
    {
     "name": "stdout",
     "output_type": "stream",
     "text": [
      "1\n",
      "1\n",
      "2\n",
      "3\n",
      "4\n",
      "5\n",
      "Hello World!!\n",
      "Hello World!!\n",
      "Hello World!!\n",
      "Hello World!!\n",
      "Hello World!!\n",
      "Hello World!!\n",
      "Hello World!!\n",
      "Hello World!!\n",
      "Hello World!!\n",
      "Hello World!!\n"
     ]
    }
   ],
   "source": [
    "def comp(lst):\n",
    "    \n",
    "    print(lst[0]) # O(1) - Constant\n",
    "    \n",
    "    \n",
    "    midpoint = int(len(lst)/2) # O(n/2)\n",
    "    \n",
    "    for x in lst[:midpoint]:\n",
    "        print(x)\n",
    "        \n",
    "    for i in range(10): # O(10)\n",
    "        print(\"Hello World!!\")\n",
    "        \n",
    "lst = [1,2,3,4,5,6,7,8,9,10]\n",
    "comp(lst)"
   ]
  },
  {
   "cell_type": "raw",
   "id": "86dc54ba-8684-4f94-83ee-e2e0e50e7a7c",
   "metadata": {},
   "source": [
    "The above can be written as O(1 + n/2 + 10)\n",
    "\n",
    "* So removing the constant term the above can be written as O(n)"
   ]
  },
  {
   "cell_type": "markdown",
   "id": "671d7eff-69c4-429b-9e09-25bfd504b1a5",
   "metadata": {},
   "source": [
    "### Space Complexity"
   ]
  },
  {
   "cell_type": "code",
   "execution_count": 25,
   "id": "cb963beb-6425-4fc8-b9ed-47e3b95c380f",
   "metadata": {},
   "outputs": [
    {
     "name": "stdout",
     "output_type": "stream",
     "text": [
      "['added', 'added', 'added', 'added', 'added', 'added', 'added', 'added', 'added', 'added']\n"
     ]
    }
   ],
   "source": [
    "def create_lst(n):\n",
    "    \n",
    "    final_lst = []\n",
    "    \n",
    "    for val in range(n):\n",
    "        final_lst.append('added')\n",
    "        \n",
    "    return final_lst\n",
    "\n",
    "print(create_lst(10))"
   ]
  },
  {
   "cell_type": "code",
   "execution_count": 26,
   "id": "e2b16917-a4fc-4727-b0ba-f556a9834fd2",
   "metadata": {},
   "outputs": [
    {
     "name": "stdout",
     "output_type": "stream",
     "text": [
      "Hello World!!\n",
      "Hello World!!\n",
      "Hello World!!\n",
      "Hello World!!\n",
      "Hello World!!\n",
      "Hello World!!\n",
      "Hello World!!\n",
      "Hello World!!\n",
      "Hello World!!\n",
      "Hello World!!\n"
     ]
    }
   ],
   "source": [
    "def printer(n):\n",
    "    \n",
    "    for i in range(10):\n",
    "        print('Hello World!!')\n",
    "        \n",
    "printer(10)"
   ]
  },
  {
   "cell_type": "raw",
   "id": "29eb3f80-2c39-4aa5-99c9-0d50afae653e",
   "metadata": {},
   "source": [
    "* The above printer function has time complexity as O(n) \n",
    "* But the space complexity is O(1) because it is printing same string n-times not n strings n umber of times."
   ]
  }
 ],
 "metadata": {
  "kernelspec": {
   "display_name": "Python 3 (ipykernel)",
   "language": "python",
   "name": "python3"
  },
  "language_info": {
   "codemirror_mode": {
    "name": "ipython",
    "version": 3
   },
   "file_extension": ".py",
   "mimetype": "text/x-python",
   "name": "python",
   "nbconvert_exporter": "python",
   "pygments_lexer": "ipython3",
   "version": "3.8.13"
  }
 },
 "nbformat": 4,
 "nbformat_minor": 5
}
