{
 "cells": [
  {
   "cell_type": "markdown",
   "id": "f5279ef3-8f60-46b1-b822-c265433b59de",
   "metadata": {},
   "source": [
    "### Array Exercise"
   ]
  },
  {
   "cell_type": "markdown",
   "id": "eb1aea24-c256-4f3a-bc7d-44c9adb83399",
   "metadata": {},
   "source": [
    "**Question** -  Check if two given strings are anagram"
   ]
  },
  {
   "cell_type": "markdown",
   "id": "24d3afad-e0f8-43ce-adfa-8a0c9a4cc601",
   "metadata": {},
   "source": [
    "First Approach"
   ]
  },
  {
   "cell_type": "code",
   "execution_count": 1,
   "id": "2e313afc-7b1d-41d0-9208-f56f7af64f8b",
   "metadata": {},
   "outputs": [],
   "source": [
    "def anagram(s1,s2):\n",
    "    s1 = s1.replace(' ','').lower()\n",
    "    s2 = s2.replace(' ','').lower()\n",
    "    \n",
    "    return sorted(s1) == sorted(s2)"
   ]
  },
  {
   "cell_type": "code",
   "execution_count": 2,
   "id": "6e6e7e25-5eb4-4898-9915-b31fc55e717e",
   "metadata": {},
   "outputs": [
    {
     "data": {
      "text/plain": [
       "True"
      ]
     },
     "execution_count": 2,
     "metadata": {},
     "output_type": "execute_result"
    }
   ],
   "source": [
    "anagram('dog','god')"
   ]
  },
  {
   "cell_type": "code",
   "execution_count": 3,
   "id": "0aeaf280-7781-4db0-a869-a33d1e8d80c3",
   "metadata": {},
   "outputs": [
    {
     "data": {
      "text/plain": [
       "True"
      ]
     },
     "execution_count": 3,
     "metadata": {},
     "output_type": "execute_result"
    }
   ],
   "source": [
    "anagram('clint east wood','old west action')"
   ]
  },
  {
   "cell_type": "markdown",
   "id": "b9993017-d5bf-4ec5-bd7a-147e71d677d0",
   "metadata": {},
   "source": [
    "Second Approach"
   ]
  },
  {
   "cell_type": "code",
   "execution_count": 13,
   "id": "ef488031-cd3c-412b-aac7-bf014caabece",
   "metadata": {},
   "outputs": [],
   "source": [
    "def anagram2(s1,s2):\n",
    "    \n",
    "    if len(s1) != len(s2):\n",
    "        return False\n",
    "    \n",
    "    count = {}\n",
    "    \n",
    "    for letter in s1:\n",
    "        if letter in count:\n",
    "            count[letter] += 1\n",
    "        else:\n",
    "            count[letter] = 1\n",
    "            \n",
    "    for letter in s2:\n",
    "        if letter in count:\n",
    "            count[letter] -= 1\n",
    "        else:\n",
    "            count[letter] = 1\n",
    "            \n",
    "            \n",
    "    for k in count:\n",
    "        if count[k]!= 0:\n",
    "            return False\n",
    "        \n",
    "    return True"
   ]
  },
  {
   "cell_type": "code",
   "execution_count": 16,
   "id": "b5ce1f9b-269c-4f2e-9e5c-9d8b1cbfdd43",
   "metadata": {},
   "outputs": [
    {
     "data": {
      "text/plain": [
       "True"
      ]
     },
     "execution_count": 16,
     "metadata": {},
     "output_type": "execute_result"
    }
   ],
   "source": [
    "anagram2('clint east wood','old west action')"
   ]
  },
  {
   "cell_type": "code",
   "execution_count": null,
   "id": "d4242317-b030-4c24-9635-d4c74a38732b",
   "metadata": {},
   "outputs": [],
   "source": []
  }
 ],
 "metadata": {
  "kernelspec": {
   "display_name": "Python 3 (ipykernel)",
   "language": "python",
   "name": "python3"
  },
  "language_info": {
   "codemirror_mode": {
    "name": "ipython",
    "version": 3
   },
   "file_extension": ".py",
   "mimetype": "text/x-python",
   "name": "python",
   "nbconvert_exporter": "python",
   "pygments_lexer": "ipython3",
   "version": "3.8.13"
  }
 },
 "nbformat": 4,
 "nbformat_minor": 5
}
