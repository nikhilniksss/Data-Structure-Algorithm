{
 "cells": [
  {
   "cell_type": "markdown",
   "metadata": {},
   "source": [
    "### Quick DSA practice"
   ]
  },
  {
   "cell_type": "markdown",
   "metadata": {},
   "source": [
    "### 📝 Problem Statement 1: Flatten a Nested List\n",
    "\n",
    "**Problem Statement:**  \n",
    "Given a list that may contain nested lists, write a function `flatten_list(nested_list)` that returns a single flattened list containing all the elements in order.\n",
    "\n",
    "For example:  \n",
    "Input: `[[1, 2], [3, 4]]`  \n",
    "Output: `[1, 2, 3, 4]`  \n",
    "\n",
    "The function should handle arbitrarily deep nesting.  \n",
    "Example:  \n",
    "Input: `[1, [2, [3, [4, 5]]]]`  \n",
    "Output: `[1, 2, 3, 4, 5]`\n",
    "\n",
    "\n",
    "**Function Signature:**\n",
    "```python\n",
    "def flatten_list(nested_list: list) -> list:\n",
    "    pass"
   ]
  },
  {
   "cell_type": "code",
   "execution_count": 10,
   "metadata": {},
   "outputs": [],
   "source": [
    "def flatten_list(input):\n",
    "    result = []\n",
    "    queue = [input]\n",
    "    while queue:\n",
    "        current = queue.pop(0)\n",
    "        if isinstance(current,list):\n",
    "            for item in current:\n",
    "                queue.append(item)\n",
    "        else:\n",
    "            result.append(current)\n",
    "    return result\n"
   ]
  },
  {
   "cell_type": "code",
   "execution_count": 11,
   "metadata": {},
   "outputs": [
    {
     "name": "stdout",
     "output_type": "stream",
     "text": [
      "Test Case 1: flatten_list([[1, 2], [1, 2, 3, 4]]) = [1, 2, 1, 2, 3, 4] | Expected = [1, 2, 1, 2, 3, 4] | PASS ✅\n",
      "Test Case 2: flatten_list([1, [2, 3], [4, 5]]) = [1, 2, 3, 4, 5] | Expected = [1, 2, 3, 4, 5] | PASS ✅\n",
      "Test Case 3: flatten_list([[[1, 2]], [3, 4]]) = [3, 4, 1, 2] | Expected = [1, 2, 3, 4] | FAIL ❌\n",
      "Test Case 4: flatten_list([[], [1, 2], [], [3]]) = [1, 2, 3] | Expected = [1, 2, 3] | PASS ✅\n",
      "Test Case 5: flatten_list([1, [2, [3, [4, 5]]]]) = [1, 2, 3, 4, 5] | Expected = [1, 2, 3, 4, 5] | PASS ✅\n"
     ]
    }
   ],
   "source": [
    "# ✅ Test Cases for Flatten List Function\n",
    "\n",
    "# Test cases defined as (input, expected_output)\n",
    "test_cases = [\n",
    "    ([[1, 2], [1, 2, 3, 4]], [1, 2, 1, 2, 3, 4]),\n",
    "    ([1, [2, 3], [4, 5]], [1, 2, 3, 4, 5]),\n",
    "    ([[[1, 2]], [3, 4]], [1, 2, 3, 4]),\n",
    "    ([[], [1, 2], [], [3]], [1, 2, 3]),\n",
    "    ([1, [2, [3, [4, 5]]]], [1, 2, 3, 4, 5])\n",
    "]\n",
    "\n",
    "# Run all test cases\n",
    "for i, (nested, expected) in enumerate(test_cases, 1):\n",
    "    result = flatten_list(nested)\n",
    "    status = \"PASS ✅\" if result == expected else \"FAIL ❌\"\n",
    "    print(f\"Test Case {i}: flatten_list({nested}) = {result} | Expected = {expected} | {status}\")"
   ]
  },
  {
   "cell_type": "markdown",
   "metadata": {},
   "source": [
    "### 📝 Problem Statement 2: Factorial of a Number\n",
    "\n",
    "**Problem Statement:**  \n",
    "Write a function `factorial(n)` that returns the factorial of a given non-negative integer `n`.\n",
    "\n",
    "The factorial of a number is defined as:\n",
    "\n",
    "\\[\n",
    "n! = n \\times (n-1) \\times (n-2) \\times \\dots \\times 1\n",
    "\\]\n",
    "\n",
    "Special case:  \n",
    "\\[\n",
    "0! = 1\n",
    "\\]\n",
    "\n",
    "\n",
    "\n",
    "**Function Signature:**\n",
    "```python\n",
    "def factorial(n: int) -> int:\n",
    "    pass"
   ]
  },
  {
   "cell_type": "code",
   "execution_count": 7,
   "metadata": {},
   "outputs": [],
   "source": [
    "def factorial(n:int) -> int:\n",
    "    result = 1\n",
    "    for i in range(1,n+1):\n",
    "        result *= i\n",
    "    return result\n"
   ]
  },
  {
   "cell_type": "code",
   "execution_count": 8,
   "metadata": {},
   "outputs": [
    {
     "name": "stdout",
     "output_type": "stream",
     "text": [
      "factorial(0) = 1 | Expected = 1 | PASS ✅\n",
      "factorial(1) = 1 | Expected = 1 | PASS ✅\n",
      "factorial(5) = 120 | Expected = 120 | PASS ✅\n",
      "factorial(7) = 5040 | Expected = 5040 | PASS ✅\n",
      "factorial(10) = 3628800 | Expected = 3628800 | PASS ✅\n"
     ]
    }
   ],
   "source": [
    "# Define test cases as (input, expected_output)\n",
    "test_cases = [\n",
    "    (0, 1),        # 0! = 1\n",
    "    (1, 1),         1! = 1\n",
    "    (5, 120),      # 5! = 120\n",
    "    (7, 5040),     # 7! = 5040\n",
    "    (10, 3628800)  # 10! = 3628800\n",
    "]\n",
    "\n",
    " Run all test cases\n",
    "for n, expected in test_cases:\n",
    "    result = factorial(n)\n",
    "    print(f\"factorial({n}) = {result} | Expected = {expected} | {'PASS ✅' if result == expected else 'FAIL ❌'}\")"
   ]
  },
  {
   "cell_type": "markdown",
   "metadata": {},
   "source": [
    "### 📝 Problem Statement 3: Count Frequency of List Items\n",
    "\n",
    "**Problem Statement:**  \n",
    "Given a list of integers, write a function `count_frequency(lst)` that returns a dictionary where:  \n",
    "- Keys are the unique elements of the list.  \n",
    "- Values are the number of times each element appears in the list.  \n",
    "\n",
    "\n",
    "**Example:**  \n",
    "Input: `[1, 1, 2, 2, 3]`  \n",
    "Output: `{1: 2, 2: 2, 3: 1}`  \n",
    "\n",
    "\n",
    "**Function Signature:**\n",
    "```python\n",
    "def count_frequency(lst: list) -> dict:\n",
    "    pass"
   ]
  },
  {
   "cell_type": "code",
   "execution_count": 12,
   "metadata": {},
   "outputs": [],
   "source": [
    "def count_frequency(lst : list) -> dict:\n",
    "    dict_map = {}\n",
    "    for num in lst:\n",
    "        if num in dict_map:\n",
    "            dict_map[num] += 1\n",
    "        else:\n",
    "            dict_map[num] = 1\n",
    "    return dict_map"
   ]
  },
  {
   "cell_type": "code",
   "execution_count": 14,
   "metadata": {},
   "outputs": [
    {
     "name": "stdout",
     "output_type": "stream",
     "text": [
      "Test Case 1: PASS ✅\n",
      "Test Case 2: PASS ✅\n",
      "Test Case 3: PASS ✅\n",
      "Test Case 4: PASS ✅\n",
      "Test Case 5: PASS ✅\n"
     ]
    }
   ],
   "source": [
    "def run_tests_count_frequency():\n",
    "    test_cases = [\n",
    "        ([1, 1, 2, 2, 3], {1: 2, 2: 2, 3: 1}),\n",
    "        ([4, 4, 4, 5], {4: 3, 5: 1}),\n",
    "        ([], {}),\n",
    "        ([10], {10: 1}),\n",
    "        ([7, 8, 7, 9, 7, 8], {7: 3, 8: 2, 9: 1})\n",
    "    ]\n",
    "    \n",
    "    for i, (inp, expected) in enumerate(test_cases, 1):\n",
    "        result = count_frequency(inp)\n",
    "        status = \"PASS ✅\" if result == expected else \"FAIL ❌\"\n",
    "        print(f\"Test Case {i}: {status}\")\n",
    "\n",
    "# Just call this (only 1 line visible)\n",
    "run_tests_count_frequency()"
   ]
  },
  {
   "cell_type": "markdown",
   "metadata": {},
   "source": [
    "### 📝 Problem Statement 4: Check if a String is a Palindrome\n",
    "\n",
    "A **palindrome** is a string that reads the same forward and backward.  \n",
    "Write a function `is_palindrome(s: str) -> bool` that determines whether a given string is a palindrome.\n",
    "\n",
    "### Requirements:\n",
    "- Ignore spaces, punctuation, and capitalization.\n",
    "- Return **True** if the string is a palindrome, otherwise return **False**.\n",
    "\n",
    "### Example:\n",
    "- Input: `\"Racecar\"`\n",
    "- Output: `True`\n"
   ]
  },
  {
   "cell_type": "code",
   "execution_count": 8,
   "metadata": {},
   "outputs": [],
   "source": [
    "def is_palindrome(s:str) -> bool:\n",
    "    s = list(s)\n",
    "    left, right = 0, len(s) - 1\n",
    "    while left < right:\n",
    "        if s[left] != s[right]:\n",
    "            return False\n",
    "        else:\n",
    "            left += 1\n",
    "            right -= 1\n",
    "    return True"
   ]
  },
  {
   "cell_type": "code",
   "execution_count": 9,
   "metadata": {},
   "outputs": [
    {
     "name": "stdout",
     "output_type": "stream",
     "text": [
      "Test Case 1: Input='madam' | Expected=True | Got=True | ✅ PASS\n",
      "Test Case 2: Input='racecar' | Expected=True | Got=True | ✅ PASS\n",
      "Test Case 3: Input='level' | Expected=True | Got=True | ✅ PASS\n",
      "Test Case 4: Input='hello' | Expected=False | Got=False | ✅ PASS\n",
      "Test Case 5: Input='python' | Expected=False | Got=False | ✅ PASS\n"
     ]
    }
   ],
   "source": [
    "# Test Cases: (input, expected_output)\n",
    "test_cases = [\n",
    "    (\"madam\", True),     # Palindrome\n",
    "    (\"racecar\", True),   # Palindrome\n",
    "    (\"level\", True),     # Palindrome\n",
    "    (\"hello\", False),    # Not a palindrome\n",
    "    (\"python\", False)    # Not a palindrome\n",
    "]\n",
    "\n",
    "# 🔹 Test Runner (You must define is_palindrome before running this)\n",
    "for i, (inp, expected) in enumerate(test_cases, 1):\n",
    "    try:\n",
    "        result = is_palindrome(inp)  # Your function should be implemented above\n",
    "        print(f\"Test Case {i}: Input='{inp}' | Expected={expected} | Got={result} | {'✅ PASS' if result == expected else '❌ FAIL'}\")\n",
    "    except NameError:\n",
    "        print(\"⚠️ Define your function 'is_palindrome' before running tests.\")\n",
    "        break\n"
   ]
  },
  {
   "cell_type": "markdown",
   "metadata": {},
   "source": [
    "### 📝 Problem Statement 5 : Reverse a String\n",
    "\n",
    "Write a function `reverse_string(s: str) -> str` that takes a string as input and returns the string reversed.\n",
    "\n",
    "### Example:\n",
    "- Input: `\"hello\"`\n",
    "- Output: `\"olleh\"`\n"
   ]
  },
  {
   "cell_type": "code",
   "execution_count": 18,
   "metadata": {},
   "outputs": [],
   "source": [
    "def reverse_string(s:str) -> str:\n",
    "    s = list(s)\n",
    "    left = 0\n",
    "    right = len(s) - 1\n",
    "    while left < right:\n",
    "        s[left],s[right] = s[right],s[left]\n",
    "        left += 1\n",
    "        right -= 1\n",
    "    return \"\".join(s)"
   ]
  },
  {
   "cell_type": "code",
   "execution_count": 19,
   "metadata": {},
   "outputs": [
    {
     "name": "stdout",
     "output_type": "stream",
     "text": [
      "Test Case 1: Input='hello' | Expected='olleh' | Got='olleh' | ✅ PASS\n",
      "Test Case 2: Input='world' | Expected='dlrow' | Got='dlrow' | ✅ PASS\n",
      "Test Case 3: Input='madam' | Expected='madam' | Got='madam' | ✅ PASS\n",
      "Test Case 4: Input='python' | Expected='nohtyp' | Got='nohtyp' | ✅ PASS\n",
      "Test Case 5: Input='racecar' | Expected='racecar' | Got='racecar' | ✅ PASS\n"
     ]
    }
   ],
   "source": [
    "# Test Cases: (input, expected_output)\n",
    "test_cases = [\n",
    "    (\"hello\", \"olleh\"),     \n",
    "    (\"world\", \"dlrow\"),     \n",
    "    (\"madam\", \"madam\"),     # Palindrome → same after reversing\n",
    "    (\"python\", \"nohtyp\"),   \n",
    "    (\"racecar\", \"racecar\")  # Palindrome → same after reversing\n",
    "]\n",
    "\n",
    "# 🔹 Test Runner (You must define reverse_string before running this)\n",
    "for i, (inp, expected) in enumerate(test_cases, 1):\n",
    "    try:\n",
    "        result = reverse_string(inp)  # Your function should be implemented above\n",
    "        print(f\"Test Case {i}: Input='{inp}' | Expected='{expected}' | Got='{result}' | {'✅ PASS' if result == expected else '❌ FAIL'}\")\n",
    "    except NameError:\n",
    "        print(\"⚠️ Define your function 'reverse_string' before running tests.\")\n",
    "        break\n"
   ]
  },
  {
   "cell_type": "markdown",
   "metadata": {},
   "source": [
    "### 📝 Problem Statement 6 : Check if Two Strings are Anagrams\n",
    "\n",
    "Two strings are called **anagrams** if they contain the same characters with the same frequency, but possibly in a different order.  \n",
    "\n",
    "Write a function `is_anagram(s1: str, s2: str) -> bool` that checks whether two given strings are anagrams of each other.\n",
    "\n",
    "### Example:\n",
    "- Input: `\"listen\"`, `\"silent\"`\n",
    "- Output: `True`\n"
   ]
  },
  {
   "cell_type": "code",
   "execution_count": 1,
   "metadata": {},
   "outputs": [],
   "source": [
    "def is_anagram(s1:str,s2:str) -> bool:\n",
    "    if len(s1) != len(s2):\n",
    "        return False\n",
    "    \n",
    "    count = [0] * 26\n",
    "    for i in range(len(s1)):\n",
    "        count[ord(s1[i]) - ord('a')] += 1\n",
    "        count[ord(s2[i]) - ord('a')] -= 1\n",
    "    \n",
    "    for val in count:\n",
    "        if val != 0:\n",
    "            return False\n",
    "    return True"
   ]
  },
  {
   "cell_type": "code",
   "execution_count": 2,
   "metadata": {},
   "outputs": [
    {
     "name": "stdout",
     "output_type": "stream",
     "text": [
      "Test Case 1: Input=('listen', 'silent') | Expected=True | Got=True | ✅ PASS\n",
      "Test Case 2: Input=('triangle', 'integral') | Expected=True | Got=True | ✅ PASS\n",
      "Test Case 3: Input=('apple', 'papel') | Expected=True | Got=True | ✅ PASS\n",
      "Test Case 4: Input=('hello', 'world') | Expected=False | Got=False | ✅ PASS\n",
      "Test Case 5: Input=('rat', 'car') | Expected=False | Got=False | ✅ PASS\n"
     ]
    }
   ],
   "source": [
    "# Test Cases: ((input1, input2), expected_output)\n",
    "test_cases = [\n",
    "    ((\"listen\", \"silent\"), True),     # Anagram\n",
    "    ((\"triangle\", \"integral\"), True), # Anagram\n",
    "    ((\"apple\", \"papel\"), True),       # Anagram\n",
    "    ((\"hello\", \"world\"), False),      # Not an anagram\n",
    "    ((\"rat\", \"car\"), False)           # Not an anagram\n",
    "]\n",
    "\n",
    "# 🔹 Test Runner (You must define is_anagram before running this)\n",
    "for i, ((s1, s2), expected) in enumerate(test_cases, 1):\n",
    "    try:\n",
    "        result = is_anagram(s1, s2)  # Your function should be implemented above\n",
    "        print(f\"Test Case {i}: Input=('{s1}', '{s2}') | Expected={expected} | Got={result} | {'✅ PASS' if result == expected else '❌ FAIL'}\")\n",
    "    except NameError:\n",
    "        print(\"⚠️ Define your function 'is_anagram' before running tests.\")\n",
    "        break\n"
   ]
  },
  {
   "cell_type": "markdown",
   "metadata": {},
   "source": [
    "### 📝 Problem Statement 7 : Group Anagrams\n",
    "\n",
    "Given a list of strings, group all the anagrams together.  \n",
    "An **anagram** is a word formed by rearranging the letters of another word.\n",
    "\n",
    "Write a function `group_anagrams(words: list[str]) -> list[list[str]]` that takes a list of words and returns a list of groups, where each group contains words that are anagrams of each other.\n",
    "\n",
    "### Example:\n",
    "- Input: `[\"eat\", \"tea\", \"tan\", \"ate\", \"nat\", \"bat\"]`\n",
    "- Output: `[[\"eat\", \"tea\", \"ate\"], [\"tan\", \"nat\"], [\"bat\"]]`\n",
    "\n",
    "*(Order of groups and words inside groups does not matter.)*\n"
   ]
  },
  {
   "cell_type": "code",
   "execution_count": 9,
   "metadata": {},
   "outputs": [],
   "source": [
    "def group_anagrams(words: list[str]) -> list[list[str]]:\n",
    "    anagram = {}\n",
    "    for word in words:\n",
    "        count = [0] * 26\n",
    "        for ch in word:\n",
    "            count[ord(ch) - ord(\"a\")] += 1\n",
    "    \n",
    "        key = tuple(count)\n",
    "        if key in anagram:\n",
    "            anagram[key].append(word)\n",
    "        else:\n",
    "            anagram[key] = [word]\n",
    "    return list(anagram.values())"
   ]
  },
  {
   "cell_type": "code",
   "execution_count": 13,
   "metadata": {},
   "outputs": [
    {
     "name": "stdout",
     "output_type": "stream",
     "text": [
      "Test Case 1: Input=['eat', 'tea', 'tan', 'ate', 'nat', 'bat'] | Expected=[['ate', 'eat', 'tea'], ['bat'], ['nat', 'tan']] | Got=[['ate', 'eat', 'tea'], ['bat'], ['nat', 'tan']] | ✅ PASS\n",
      "Test Case 2: Input=['abc', 'bca', 'cab', 'xyz', 'zyx'] | Expected=[['abc', 'bca', 'cab'], ['xyz', 'zyx']] | Got=[['abc', 'bca', 'cab'], ['xyz', 'zyx']] | ✅ PASS\n",
      "Test Case 3: Input=['a'] | Expected=[['a']] | Got=[['a']] | ✅ PASS\n",
      "Test Case 4: Input=[''] | Expected=[['']] | Got=[['']] | ✅ PASS\n",
      "Test Case 5: Input=['cat', 'dog', 'tac', 'god', 'act'] | Expected=[['act', 'cat', 'tac'], ['dog', 'god']] | Got=[['act', 'cat', 'tac'], ['dog', 'god']] | ✅ PASS\n"
     ]
    }
   ],
   "source": [
    "# Test Cases: (input, expected_output)\n",
    "test_cases = [\n",
    "    ([\"eat\", \"tea\", \"tan\", \"ate\", \"nat\", \"bat\"], [[\"eat\",\"tea\",\"ate\"], [\"tan\",\"nat\"], [\"bat\"]]),\n",
    "    ([\"abc\", \"bca\", \"cab\", \"xyz\", \"zyx\"], [[\"abc\",\"bca\",\"cab\"], [\"xyz\",\"zyx\"]]),\n",
    "    ([\"a\"], [[\"a\"]]),\n",
    "    ([\"\"], [[\"\"]]),\n",
    "    ([\"cat\", \"dog\", \"tac\", \"god\", \"act\"], [[\"cat\",\"tac\",\"act\"], [\"dog\",\"god\"]])\n",
    "]\n",
    "\n",
    "# 🔹 Test Runner (normalize for fair comparison since order doesn't matter)\n",
    "normalize = lambda lst: sorted([sorted(group) for group in lst])\n",
    "\n",
    "for i, (inp, expected) in enumerate(test_cases, 1):\n",
    "    try:\n",
    "        result = group_anagrams(inp)  # Your function should be implemented above\n",
    "        status = \"✅ PASS\" if normalize(result) == normalize(expected) else \"❌ FAIL\"\n",
    "        print(f\"Test Case {i}: Input={inp} | Expected={normalize(expected)} | Got={normalize(result)} | {status}\")\n",
    "    except NameError:\n",
    "        print(\"⚠️ Define your function 'group_anagrams' before running tests.\")\n",
    "        break\n"
   ]
  },
  {
   "cell_type": "markdown",
   "metadata": {},
   "source": [
    "### 📝 Problem Statement 8 : Valid Parentheses\n",
    "\n",
    "Given a string containing just the characters `'('`, `')'`, `'{'`, `'}'`, `'['`, and `']'`,  \n",
    "determine if the input string is **valid**.\n",
    "\n",
    "A string is valid if:\n",
    "1. Open brackets must be closed by the same type of brackets.  \n",
    "2. Open brackets must be closed in the correct order.  \n",
    "3. Every closing bracket has a corresponding opening bracket of the same type.\n",
    "\n",
    "Write a function `is_valid_parentheses(s: str) -> bool` that checks whether the given string is valid.\n",
    "\n",
    "### Example:\n",
    "- Input: `\"()[]{}\"`\n",
    "- Output: `True`\n"
   ]
  },
  {
   "cell_type": "code",
   "execution_count": 16,
   "metadata": {},
   "outputs": [],
   "source": [
    "def is_valid_parentheses(s:str) -> bool:\n",
    "    stack = []\n",
    "    mapping = {\"}\":\"{\",\"]\":\"[\",\")\":\"(\"}\n",
    "    for ch in s:\n",
    "        if ch in mapping:\n",
    "            if stack and stack[-1] == mapping[ch]:\n",
    "                stack.pop()\n",
    "            else:\n",
    "                return False\n",
    "        else:\n",
    "            stack.append(ch)\n",
    "    return True if not stack else True"
   ]
  },
  {
   "cell_type": "code",
   "execution_count": 17,
   "metadata": {},
   "outputs": [
    {
     "name": "stdout",
     "output_type": "stream",
     "text": [
      "Test Case 1: Input='()' | Expected=True | Got=True | ✅ PASS\n",
      "Test Case 2: Input='()[]{}' | Expected=True | Got=True | ✅ PASS\n",
      "Test Case 3: Input='(]' | Expected=False | Got=False | ✅ PASS\n",
      "Test Case 4: Input='([)]' | Expected=False | Got=False | ✅ PASS\n",
      "Test Case 5: Input='{[]}' | Expected=True | Got=True | ✅ PASS\n"
     ]
    }
   ],
   "source": [
    "# Test Cases: (input, expected_output)\n",
    "test_cases = [\n",
    "    (\"()\", True),        # ✅ PASS simple valid\n",
    "    (\"()[]{}\", True),    # ✅ PASS multiple valid types\n",
    "    (\"(]\", False),       # ❌ FAIL invalid mismatch\n",
    "    (\"([)]\", False),     # ❌ FAIL wrong order\n",
    "    (\"{[]}\", True)       # ✅ PASS nested valid\n",
    "]\n",
    "\n",
    "# 🔹 Test Runner (You must define is_valid_parentheses before running this)\n",
    "for i, (inp, expected) in enumerate(test_cases, 1):\n",
    "    try:\n",
    "        result = is_valid_parentheses(inp)  # Your function should be implemented above\n",
    "        status = \"✅ PASS\" if result == expected else \"❌ FAIL\"\n",
    "        print(f\"Test Case {i}: Input='{inp}' | Expected={expected} | Got={result} | {status}\")\n",
    "    except NameError:\n",
    "        print(\"⚠️ Define your function 'is_valid_parentheses' before running tests.\")\n",
    "        break\n"
   ]
  },
  {
   "cell_type": "markdown",
   "metadata": {},
   "source": [
    "### 📝 Problem Statement 9 : Palindrome After Shuffling\n",
    "\n",
    "Given an integer `n`, determine if its digits can be **rearranged (shuffled)** to form a palindrome.\n",
    "\n",
    "A number is a palindrome if it reads the same backward as forward.\n",
    "\n",
    "Write a function `can_form_palindrome(n: int) -> bool` that checks whether\n",
    "the digits of `n` can be rearranged to form a palindrome.\n",
    "\n",
    "Example:\n",
    "- Input: 1213\n",
    "- Output: True\n",
    "\n",
    "- Input: 1234\n",
    "- Output: False"
   ]
  },
  {
   "cell_type": "code",
   "execution_count": 9,
   "metadata": {},
   "outputs": [],
   "source": [
    "def can_form_palindrome(n:int) -> bool:\n",
    "    word_count = {}\n",
    "    for digit in str(n):\n",
    "        if digit in word_count:\n",
    "            word_count[digit] += 1\n",
    "        else:\n",
    "            word_count[digit] = 1\n",
    "    \n",
    "    odd_count = 0\n",
    "    for count in word_count.values():\n",
    "        if count % 2 != 0:\n",
    "            odd_count += 1\n",
    "\n",
    "    return odd_count <= 1"
   ]
  },
  {
   "cell_type": "code",
   "execution_count": 12,
   "metadata": {},
   "outputs": [
    {
     "name": "stdout",
     "output_type": "stream",
     "text": [
      "Test Case 1: Input=121 | Expected=True | Got=True | ✅ PASS\n",
      "Test Case 2: Input=123 | Expected=False | Got=False | ✅ PASS\n",
      "Test Case 3: Input=1221 | Expected=True | Got=True | ✅ PASS\n",
      "Test Case 4: Input=112233 | Expected=True | Got=True | ✅ PASS\n",
      "Test Case 5: Input=10 | Expected=False | Got=False | ✅ PASS\n",
      "Test Case 6: Input=7 | Expected=True | Got=True | ✅ PASS\n",
      "Test Case 7: Input=1001 | Expected=True | Got=True | ✅ PASS\n",
      "Test Case 8: Input=1233215 | Expected=True | Got=True | ✅ PASS\n",
      "Test Case 9: Input=12345 | Expected=False | Got=False | ✅ PASS\n"
     ]
    }
   ],
   "source": [
    "# Test Cases: (input, expected_output)\n",
    "test_cases = [\n",
    "    (121, True),       # ✅ Can rearrange to 121\n",
    "    (123, False),      # ❌ No palindrome possible\n",
    "    (1221, True),      # ✅ Already a palindrome\n",
    "    (112233, True),    # ✅ Can rearrange to 321123\n",
    "    (10, False),       # ❌ Digits 1 and 0 cannot form palindrome\n",
    "    (7, True),         # ✅ Single digit is always palindrome\n",
    "    (1001, True),      # ✅ Already palindrome\n",
    "    (1233215, True),   # ✅ Odd count digit can still form palindrome\n",
    "    (12345, False)     # ❌ Impossible\n",
    "]\n",
    "\n",
    "# 🔹 Test Runner (You must define can_form_palindrome before running this)\n",
    "for i, (inp, expected) in enumerate(test_cases, 1):\n",
    "    try:\n",
    "        result = can_form_palindrome(inp)  # Your function should be implemented above\n",
    "        status = \"✅ PASS\" if result == expected else \"❌ FAIL\"\n",
    "        print(f\"Test Case {i}: Input={inp} | Expected={expected} | Got={result} | {status}\")\n",
    "    except NameError:\n",
    "        print(\"⚠️ Define your function 'can_form_palindrome' before running tests.\")\n",
    "        break"
   ]
  },
  {
   "cell_type": "markdown",
   "metadata": {},
   "source": [
    "### 📝 Problem Statement 10 : Palindrome After Shuffling (String Version)\n",
    "\n",
    "Given a string `s`, determine if its characters can be **rearranged (shuffled)** to form a palindrome.\n",
    "\n",
    "A string is a palindrome if it reads the same backward as forward.\n",
    "\n",
    "Write a function `can_form_palindrome_string(s: str) -> bool` that checks whether\n",
    "the characters of `s` can be rearranged to form a palindrome.\n",
    "\n",
    "Example:\n",
    "- Input: \"aab\"\n",
    "- Output: True\n",
    "\n",
    "- Input: \"abc\"\n",
    "- Output: False"
   ]
  },
  {
   "cell_type": "code",
   "execution_count": 16,
   "metadata": {},
   "outputs": [],
   "source": [
    "def can_form_palindrome_string(s:str) -> bool:\n",
    "    word_map = {}\n",
    "    for ch in s:\n",
    "        if ch in word_map:\n",
    "            word_map[ch] += 1\n",
    "        else:\n",
    "            word_map[ch] = 1\n",
    "\n",
    "    odd_count = 0\n",
    "    for count in word_map.values():\n",
    "        if count % 2 != 0:\n",
    "            odd_count += 1\n",
    "\n",
    "    return odd_count <= 1"
   ]
  },
  {
   "cell_type": "code",
   "execution_count": 17,
   "metadata": {},
   "outputs": [
    {
     "name": "stdout",
     "output_type": "stream",
     "text": [
      "Test Case 1: Input='aab' | Expected=True | Got=True | ✅ PASS\n",
      "Test Case 2: Input='abc' | Expected=False | Got=False | ✅ PASS\n",
      "Test Case 3: Input='aabb' | Expected=True | Got=True | ✅ PASS\n",
      "Test Case 4: Input='aaabbbb' | Expected=True | Got=True | ✅ PASS\n",
      "Test Case 5: Input='civic' | Expected=True | Got=True | ✅ PASS\n",
      "Test Case 6: Input='hello' | Expected=False | Got=False | ✅ PASS\n",
      "Test Case 7: Input='x' | Expected=True | Got=True | ✅ PASS\n",
      "Test Case 8: Input='' | Expected=True | Got=True | ✅ PASS\n"
     ]
    }
   ],
   "source": [
    "# Test Cases: (input, expected_output)\n",
    "test_cases = [\n",
    "    (\"aab\", True),        # ✅ Can rearrange to \"aba\"\n",
    "    (\"abc\", False),       # ❌ No palindrome possible\n",
    "    (\"aabb\", True),       # ✅ Already palindrome \"abba\"\n",
    "    (\"aaabbbb\", True),    # ✅ Can rearrange to \"bbaaabb\"\n",
    "    (\"civic\", True),      # ✅ Already palindrome\n",
    "    (\"hello\", False),     # ❌ Impossible\n",
    "    (\"x\", True),          # ✅ Single char is always palindrome\n",
    "    (\"\", True)            # ✅ Empty string can be treated as palindrome\n",
    "]\n",
    "\n",
    "# 🔹 Test Runner (You must define can_form_palindrome_string before running this)\n",
    "for i, (inp, expected) in enumerate(test_cases, 1):\n",
    "    try:\n",
    "        result = can_form_palindrome_string(inp)  # Your function should be implemented above\n",
    "        status = \"✅ PASS\" if result == expected else \"❌ FAIL\"\n",
    "        print(f\"Test Case {i}: Input='{inp}' | Expected={expected} | Got={result} | {status}\")\n",
    "    except NameError:\n",
    "        print(\"⚠️ Define your function 'can_form_palindrome_string' before running tests.\")\n",
    "        break"
   ]
  },
  {
   "cell_type": "code",
   "execution_count": null,
   "metadata": {},
   "outputs": [],
   "source": []
  }
 ],
 "metadata": {
  "kernelspec": {
   "display_name": "Python 3",
   "language": "python",
   "name": "python3"
  },
  "language_info": {
   "codemirror_mode": {
    "name": "ipython",
    "version": 3
   },
   "file_extension": ".py",
   "mimetype": "text/x-python",
   "name": "python",
   "nbconvert_exporter": "python",
   "pygments_lexer": "ipython3",
   "version": "3.11.9"
  }
 },
 "nbformat": 4,
 "nbformat_minor": 2
}
