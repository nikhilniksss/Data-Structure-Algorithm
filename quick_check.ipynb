{
 "cells": [
  {
   "cell_type": "markdown",
   "metadata": {},
   "source": [
    "### Quick DSA practice"
   ]
  },
  {
   "cell_type": "markdown",
   "metadata": {},
   "source": [
    "#### Question 1: Flatten a Nested List\n",
    "\n",
    "**Problem Statement:**  \n",
    "Given a list that may contain nested lists, write a function `flatten_list(nested_list)` that returns a single flattened list containing all the elements in order.\n",
    "\n",
    "For example:  \n",
    "Input: `[[1, 2], [3, 4]]`  \n",
    "Output: `[1, 2, 3, 4]`  \n",
    "\n",
    "The function should handle arbitrarily deep nesting.  \n",
    "Example:  \n",
    "Input: `[1, [2, [3, [4, 5]]]]`  \n",
    "Output: `[1, 2, 3, 4, 5]`\n",
    "\n",
    "\n",
    "**Function Signature:**\n",
    "```python\n",
    "def flatten_list(nested_list: list) -> list:\n",
    "    pass"
   ]
  },
  {
   "cell_type": "code",
   "execution_count": 10,
   "metadata": {},
   "outputs": [],
   "source": [
    "def flatten_list(input):\n",
    "    result = []\n",
    "    queue = [input]\n",
    "    while queue:\n",
    "        current = queue.pop(0)\n",
    "        if isinstance(current,list):\n",
    "            for item in current:\n",
    "                queue.append(item)\n",
    "        else:\n",
    "            result.append(current)\n",
    "    return result\n"
   ]
  },
  {
   "cell_type": "code",
   "execution_count": 11,
   "metadata": {},
   "outputs": [
    {
     "name": "stdout",
     "output_type": "stream",
     "text": [
      "Test Case 1: flatten_list([[1, 2], [1, 2, 3, 4]]) = [1, 2, 1, 2, 3, 4] | Expected = [1, 2, 1, 2, 3, 4] | PASS ✅\n",
      "Test Case 2: flatten_list([1, [2, 3], [4, 5]]) = [1, 2, 3, 4, 5] | Expected = [1, 2, 3, 4, 5] | PASS ✅\n",
      "Test Case 3: flatten_list([[[1, 2]], [3, 4]]) = [3, 4, 1, 2] | Expected = [1, 2, 3, 4] | FAIL ❌\n",
      "Test Case 4: flatten_list([[], [1, 2], [], [3]]) = [1, 2, 3] | Expected = [1, 2, 3] | PASS ✅\n",
      "Test Case 5: flatten_list([1, [2, [3, [4, 5]]]]) = [1, 2, 3, 4, 5] | Expected = [1, 2, 3, 4, 5] | PASS ✅\n"
     ]
    }
   ],
   "source": [
    "# ✅ Test Cases for Flatten List Function\n",
    "\n",
    "# Test cases defined as (input, expected_output)\n",
    "test_cases = [\n",
    "    ([[1, 2], [1, 2, 3, 4]], [1, 2, 1, 2, 3, 4]),\n",
    "    ([1, [2, 3], [4, 5]], [1, 2, 3, 4, 5]),\n",
    "    ([[[1, 2]], [3, 4]], [1, 2, 3, 4]),\n",
    "    ([[], [1, 2], [], [3]], [1, 2, 3]),\n",
    "    ([1, [2, [3, [4, 5]]]], [1, 2, 3, 4, 5])\n",
    "]\n",
    "\n",
    "# Run all test cases\n",
    "for i, (nested, expected) in enumerate(test_cases, 1):\n",
    "    result = flatten_list(nested)\n",
    "    status = \"PASS ✅\" if result == expected else \"FAIL ❌\"\n",
    "    print(f\"Test Case {i}: flatten_list({nested}) = {result} | Expected = {expected} | {status}\")"
   ]
  },
  {
   "cell_type": "markdown",
   "metadata": {},
   "source": [
    "#### Question 2: Factorial of a Number\n",
    "\n",
    "**Problem Statement:**  \n",
    "Write a function `factorial(n)` that returns the factorial of a given non-negative integer `n`.\n",
    "\n",
    "The factorial of a number is defined as:\n",
    "\n",
    "\\[\n",
    "n! = n \\times (n-1) \\times (n-2) \\times \\dots \\times 1\n",
    "\\]\n",
    "\n",
    "Special case:  \n",
    "\\[\n",
    "0! = 1\n",
    "\\]\n",
    "\n",
    "\n",
    "\n",
    "**Function Signature:**\n",
    "```python\n",
    "def factorial(n: int) -> int:\n",
    "    pass"
   ]
  },
  {
   "cell_type": "code",
   "execution_count": 7,
   "metadata": {},
   "outputs": [],
   "source": [
    "def factorial(n:int) -> int:\n",
    "    result = 1\n",
    "    for i in range(1,n+1):\n",
    "        result *= i\n",
    "    return result\n"
   ]
  },
  {
   "cell_type": "code",
   "execution_count": 8,
   "metadata": {},
   "outputs": [
    {
     "name": "stdout",
     "output_type": "stream",
     "text": [
      "factorial(0) = 1 | Expected = 1 | PASS ✅\n",
      "factorial(1) = 1 | Expected = 1 | PASS ✅\n",
      "factorial(5) = 120 | Expected = 120 | PASS ✅\n",
      "factorial(7) = 5040 | Expected = 5040 | PASS ✅\n",
      "factorial(10) = 3628800 | Expected = 3628800 | PASS ✅\n"
     ]
    }
   ],
   "source": [
    "# Define test cases as (input, expected_output)\n",
    "test_cases = [\n",
    "    (0, 1),        # 0! = 1\n",
    "    (1, 1),        # 1! = 1\n",
    "    (5, 120),      # 5! = 120\n",
    "    (7, 5040),     # 7! = 5040\n",
    "    (10, 3628800)  # 10! = 3628800\n",
    "]\n",
    "\n",
    "# Run all test cases\n",
    "for n, expected in test_cases:\n",
    "    result = factorial(n)\n",
    "    print(f\"factorial({n}) = {result} | Expected = {expected} | {'PASS ✅' if result == expected else 'FAIL ❌'}\")"
   ]
  },
  {
   "cell_type": "markdown",
   "metadata": {},
   "source": [
    "#### Question 3: Count Frequency of List Items\n",
    "\n",
    "**Problem Statement:**  \n",
    "Given a list of integers, write a function `count_frequency(lst)` that returns a dictionary where:  \n",
    "- Keys are the unique elements of the list.  \n",
    "- Values are the number of times each element appears in the list.  \n",
    "\n",
    "\n",
    "**Example:**  \n",
    "Input: `[1, 1, 2, 2, 3]`  \n",
    "Output: `{1: 2, 2: 2, 3: 1}`  \n",
    "\n",
    "\n",
    "**Function Signature:**\n",
    "```python\n",
    "def count_frequency(lst: list) -> dict:\n",
    "    pass"
   ]
  },
  {
   "cell_type": "code",
   "execution_count": 12,
   "metadata": {},
   "outputs": [],
   "source": [
    "def count_frequency(lst : list) -> dict:\n",
    "    dict_map = {}\n",
    "    for num in lst:\n",
    "        if num in dict_map:\n",
    "            dict_map[num] += 1\n",
    "        else:\n",
    "            dict_map[num] = 1\n",
    "    return dict_map"
   ]
  },
  {
   "cell_type": "code",
   "execution_count": 14,
   "metadata": {},
   "outputs": [
    {
     "name": "stdout",
     "output_type": "stream",
     "text": [
      "Test Case 1: PASS ✅\n",
      "Test Case 2: PASS ✅\n",
      "Test Case 3: PASS ✅\n",
      "Test Case 4: PASS ✅\n",
      "Test Case 5: PASS ✅\n"
     ]
    }
   ],
   "source": [
    "def run_tests_count_frequency():\n",
    "    test_cases = [\n",
    "        ([1, 1, 2, 2, 3], {1: 2, 2: 2, 3: 1}),\n",
    "        ([4, 4, 4, 5], {4: 3, 5: 1}),\n",
    "        ([], {}),\n",
    "        ([10], {10: 1}),\n",
    "        ([7, 8, 7, 9, 7, 8], {7: 3, 8: 2, 9: 1})\n",
    "    ]\n",
    "    \n",
    "    for i, (inp, expected) in enumerate(test_cases, 1):\n",
    "        result = count_frequency(inp)\n",
    "        status = \"PASS ✅\" if result == expected else \"FAIL ❌\"\n",
    "        print(f\"Test Case {i}: {status}\")\n",
    "\n",
    "# Just call this (only 1 line visible)\n",
    "run_tests_count_frequency()"
   ]
  },
  {
   "cell_type": "markdown",
   "metadata": {},
   "source": []
  }
 ],
 "metadata": {
  "kernelspec": {
   "display_name": "Python 3",
   "language": "python",
   "name": "python3"
  },
  "language_info": {
   "codemirror_mode": {
    "name": "ipython",
    "version": 3
   },
   "file_extension": ".py",
   "mimetype": "text/x-python",
   "name": "python",
   "nbconvert_exporter": "python",
   "pygments_lexer": "ipython3",
   "version": "3.11.9"
  }
 },
 "nbformat": 4,
 "nbformat_minor": 2
}
