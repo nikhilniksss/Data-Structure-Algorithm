{
 "cells": [
  {
   "cell_type": "code",
   "execution_count": 2,
   "metadata": {},
   "outputs": [
    {
     "data": {
      "text/plain": [
       "[2, 3, 4, 1]"
      ]
     },
     "execution_count": 2,
     "metadata": {},
     "output_type": "execute_result"
    }
   ],
   "source": [
    "# reverse the array\n",
    "\n",
    "a = [1,4,3,2]\n",
    "\n",
    "def reverse_array(a):\n",
    "    left = 0\n",
    "    right = len(a)-1\n",
    "\n",
    "    while left < right:\n",
    "        a[left],a[right] = a[right],a[left]\n",
    "\n",
    "        left += 1\n",
    "        right -= 1\n",
    "    return a\n",
    "\n",
    "reverse_array(a)"
   ]
  },
  {
   "cell_type": "code",
   "execution_count": 5,
   "metadata": {},
   "outputs": [
    {
     "name": "stdout",
     "output_type": "stream",
     "text": [
      "36\n"
     ]
    }
   ],
   "source": [
    "# sum of array\n",
    "\n",
    "a = [1,2,3,4,5,6,7,8]\n",
    "\n",
    "summed = 0\n",
    "for i in a:\n",
    "    summed += i\n",
    "print(summed)"
   ]
  },
  {
   "cell_type": "code",
   "execution_count": 33,
   "metadata": {},
   "outputs": [],
   "source": [
    "# sum of square matrix\n",
    "\n",
    "arr = [[11, 2, 4], [4, 5, 6], [10, 8, -12]]\n",
    "\n",
    "first_sum = 0\n",
    "for i in range(0,len(arr)):\n",
    "    first_sum += arr[i][i]\n",
    "for j in range(len(arr),-1):\n",
    "    print(arr[j])"
   ]
  },
  {
   "cell_type": "code",
   "execution_count": null,
   "metadata": {},
   "outputs": [],
   "source": [
    "# sum of square matrix\n",
    "\n",
    "arr = [[11, 2, 4], [4, 5, 6], [10, 8, -12]]\n",
    "\n",
    "first_sum = 0\n",
    "for j in range(len(arr),-1):"
   ]
  },
  {
   "cell_type": "markdown",
   "metadata": {},
   "source": [
    "Sample Input\n",
    "\n",
    "STDIN           Function\n",
    "-----           --------\n",
    "6               arr[] size n = 6\n",
    "-4 3 -9 0 4 1   arr = [-4, 3, -9, 0, 4, 1]\n",
    "\n",
    "Sample Output\n",
    "\n",
    "0.500000\n",
    "0.333333\n",
    "0.166667"
   ]
  },
  {
   "cell_type": "code",
   "execution_count": 44,
   "metadata": {},
   "outputs": [
    {
     "name": "stdout",
     "output_type": "stream",
     "text": [
      "0.500000\n",
      "0.333333\n",
      "0.166667\n"
     ]
    }
   ],
   "source": [
    "arr = [-4, 3, -9, 0, 4, 1]\n",
    "\n",
    "denominator = len(arr)\n",
    "count_negative = 0\n",
    "count_positive = 0\n",
    "count_zero = 0\n",
    "\n",
    "for i in arr:\n",
    "    if i == 0:\n",
    "        count_zero += 1\n",
    "    elif i < 0:\n",
    "        count_negative += 1\n",
    "    else:\n",
    "        count_positive += 1\n",
    "\n",
    "print(f\"{count_positive/denominator:.6f}\")\n",
    "print(f\"{count_negative/denominator:.6f}\")\n",
    "print(f\"{count_zero/denominator:.6f}\")"
   ]
  },
  {
   "cell_type": "markdown",
   "metadata": {},
   "source": [
    "###### Sample Input\n",
    "\n",
    "str_word = saveChangesInTheEditor\n",
    "\n",
    "###### Sample Output\n",
    "\n",
    "5"
   ]
  },
  {
   "cell_type": "code",
   "execution_count": 51,
   "metadata": {},
   "outputs": [
    {
     "name": "stdout",
     "output_type": "stream",
     "text": [
      "5\n"
     ]
    }
   ],
   "source": [
    "str_word = 'saveChangesInTheEditor'\n",
    "\n",
    "count_words = 1\n",
    "for i in str_word:\n",
    "    count_true_false = i.isupper()\n",
    "    if count_true_false == True:\n",
    "        count_words += 1\n",
    "print(count_words)"
   ]
  },
  {
   "cell_type": "code",
   "execution_count": 16,
   "metadata": {},
   "outputs": [
    {
     "name": "stdout",
     "output_type": "stream",
     "text": [
      "     #\n",
      "    ##\n",
      "   ###\n",
      "  ####\n",
      " #####\n",
      "######\n"
     ]
    }
   ],
   "source": [
    "a = 6\n",
    "\n",
    "for i in range(1,a+1):\n",
    "    token = ' ' * (int(a) - int(i)) + int(i)*'#'\n",
    "    print(token)"
   ]
  },
  {
   "cell_type": "code",
   "execution_count": null,
   "metadata": {},
   "outputs": [
    {
     "name": "stdout",
     "output_type": "stream",
     "text": [
      "#\n"
     ]
    }
   ],
   "source": []
  },
  {
   "cell_type": "markdown",
   "metadata": {},
   "source": []
  }
 ],
 "metadata": {
  "kernelspec": {
   "display_name": "Python 3",
   "language": "python",
   "name": "python3"
  },
  "language_info": {
   "codemirror_mode": {
    "name": "ipython",
    "version": 3
   },
   "file_extension": ".py",
   "mimetype": "text/x-python",
   "name": "python",
   "nbconvert_exporter": "python",
   "pygments_lexer": "ipython3",
   "version": "3.9.6"
  }
 },
 "nbformat": 4,
 "nbformat_minor": 2
}
