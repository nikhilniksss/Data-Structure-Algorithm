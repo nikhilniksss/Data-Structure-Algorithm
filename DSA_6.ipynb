{
 "cells": [
  {
   "cell_type": "markdown",
   "id": "1a4a58d7-adcc-4b69-84ed-42e429152c46",
   "metadata": {},
   "source": [
    "### DSA "
   ]
  },
  {
   "cell_type": "code",
   "execution_count": 6,
   "id": "3161b836-9e2b-44ee-be81-32776de3c022",
   "metadata": {},
   "outputs": [],
   "source": [
    "import time\n",
    "\n",
    "def sumofn(n):\n",
    "    \n",
    "    start = time.time()\n",
    "    sum = 0\n",
    "    \n",
    "    for i in range(1,n+1):\n",
    "        sum  = sum + i\n",
    "        \n",
    "    end = time.time()\n",
    "    return sum,end-start"
   ]
  },
  {
   "cell_type": "code",
   "execution_count": 7,
   "id": "97b07aec-f35f-40d8-a13a-6cdf8a69e836",
   "metadata": {},
   "outputs": [
    {
     "name": "stdout",
     "output_type": "stream",
     "text": [
      "(55, 3.0994415283203125e-06)\n",
      "(50000005000000, 0.7802650928497314)\n",
      "(5000000050000000, 7.322662830352783)\n"
     ]
    }
   ],
   "source": [
    "print(sumofn(10))\n",
    "print(sumofn(10000000))\n",
    "print(sumofn(100000000))"
   ]
  },
  {
   "cell_type": "code",
   "execution_count": 8,
   "id": "86c6e98a-cee0-4776-9fb5-491dd8ea6936",
   "metadata": {},
   "outputs": [],
   "source": [
    "#### Effective way to solve the above code\n",
    "\n",
    "import time\n",
    "\n",
    "def sumofn1(n):\n",
    "    \n",
    "    start = time.time()\n",
    "    sum = n * (n + 1)/2\n",
    "    end = time.time()\n",
    "    return sum,end-start"
   ]
  },
  {
   "cell_type": "code",
   "execution_count": 10,
   "id": "40de65cd-6900-4b3d-b51d-ff6d4da7020d",
   "metadata": {},
   "outputs": [
    {
     "name": "stdout",
     "output_type": "stream",
     "text": [
      "(55.0, 1.1920928955078125e-06)\n",
      "(50000005000000.0, 9.5367431640625e-07)\n",
      "(5000000050000000.0, 9.5367431640625e-07)\n",
      "(5.000000005e+17, 1.1920928955078125e-06)\n",
      "(5e+35, 1.9073486328125e-06)\n"
     ]
    }
   ],
   "source": [
    "print(sumofn1(10))\n",
    "print(sumofn1(10000000))\n",
    "print(sumofn1(100000000))\n",
    "print(sumofn1(1000000000))\n",
    "print(sumofn1(1000000000000000000))"
   ]
  },
  {
   "cell_type": "code",
   "execution_count": null,
   "id": "50623f59-9c9b-4382-aceb-fa3db3500956",
   "metadata": {},
   "outputs": [],
   "source": []
  }
 ],
 "metadata": {
  "kernelspec": {
   "display_name": "Python 3 (ipykernel)",
   "language": "python",
   "name": "python3"
  },
  "language_info": {
   "codemirror_mode": {
    "name": "ipython",
    "version": 3
   },
   "file_extension": ".py",
   "mimetype": "text/x-python",
   "name": "python",
   "nbconvert_exporter": "python",
   "pygments_lexer": "ipython3",
   "version": "3.8.13"
  }
 },
 "nbformat": 4,
 "nbformat_minor": 5
}
