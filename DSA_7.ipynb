{
 "cells": [
  {
   "cell_type": "markdown",
   "id": "425321c9-9afd-4167-9d12-44c00e91b845",
   "metadata": {},
   "source": [
    "### Binary Search"
   ]
  },
  {
   "cell_type": "code",
   "execution_count": 31,
   "id": "41c30a11-6c3f-4023-91ef-f3449387029e",
   "metadata": {},
   "outputs": [],
   "source": [
    "def binary_search(lists,items):\n",
    "    \n",
    "    lists.sort()\n",
    "    low = 0\n",
    "    high = len(lists)-1\n",
    "    \n",
    "    while low <= high:\n",
    "        mid = low + high\n",
    "        guess = lists[mid]\n",
    "        \n",
    "        if guess == items:\n",
    "            return mid\n",
    "        \n",
    "        if guess > items:\n",
    "            high = mid - 1\n",
    "        else:\n",
    "            low = mid + 1\n",
    "            \n",
    "    return None"
   ]
  },
  {
   "cell_type": "code",
   "execution_count": 24,
   "id": "d0134e5e-657c-4ac9-8252-5f31acd158cc",
   "metadata": {},
   "outputs": [
    {
     "name": "stdout",
     "output_type": "stream",
     "text": [
      "1\n",
      "None\n",
      "4\n",
      "0\n"
     ]
    }
   ],
   "source": [
    "# On sorted list\n",
    "\n",
    "my_list = [1,3,5,7,9]\n",
    "\n",
    "print(binary_search(my_list,3))\n",
    "\n",
    "print(binary_search(my_list,-1))\n",
    "\n",
    "print(binary_search(my_list,9))\n",
    "\n",
    "print(binary_search(my_list,1))"
   ]
  },
  {
   "cell_type": "code",
   "execution_count": 32,
   "id": "806a75ff-f149-4aef-8b64-cb2b91593939",
   "metadata": {},
   "outputs": [
    {
     "name": "stdout",
     "output_type": "stream",
     "text": [
      "1\n",
      "None\n",
      "4\n",
      "0\n"
     ]
    }
   ],
   "source": [
    "# on unsorted list\n",
    "\n",
    "my_list = [1,7,9,3,5]\n",
    "\n",
    "print(binary_search(my_list,3))\n",
    "\n",
    "print(binary_search(my_list,-1))\n",
    "\n",
    "print(binary_search(my_list,9))\n",
    "\n",
    "print(binary_search(my_list,1))"
   ]
  }
 ],
 "metadata": {
  "kernelspec": {
   "display_name": "Python 3 (ipykernel)",
   "language": "python",
   "name": "python3"
  },
  "language_info": {
   "codemirror_mode": {
    "name": "ipython",
    "version": 3
   },
   "file_extension": ".py",
   "mimetype": "text/x-python",
   "name": "python",
   "nbconvert_exporter": "python",
   "pygments_lexer": "ipython3",
   "version": "3.8.13"
  }
 },
 "nbformat": 4,
 "nbformat_minor": 5
}
